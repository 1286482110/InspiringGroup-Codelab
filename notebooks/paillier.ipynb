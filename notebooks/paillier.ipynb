{
 "cells": [
  {
   "cell_type": "markdown",
   "metadata": {},
   "source": [
    "## Paillier 同态密码系统简介及其 Python 实现\n",
    "* 同态，通俗理解就是运算方可以在不知道运算数明文的情况下对密文进行某种计算，使得计算的结果仍为合法的密文，且解密后恰好等于原两明文的某种计算的结果。\n",
    "* 假设加密算法为 $E(x)$，其中 $x$ 为明文，则同态密码系统可以表示为符合以下性质：\n",
    "  $$E(x) \\oplus E(y) = E(x + y) $$\n",
    "  其中，$x, y$ 为明文， $\\oplus$ 是密文上的某种运算，$+$ 是明文上的某种运算，通常为加法或乘法。\n",
    "* 全同态密码系统和半同态密码系统：当一个同态密码系统同时支持对密文进行运算实现明文上的加法和乘法时，该密码系统称为全同态密码系统；而仅支持加法或乘法中的一种时，称为半同态密码系统。\n",
    "* Paillier 同态密码系统\n",
    "  * Paillier同态密码系统是半同态密码系统，支持同态加法运算。"
   ]
  },
  {
   "cell_type": "code",
   "execution_count": null,
   "metadata": {},
   "outputs": [],
   "source": [
    "import random\n",
    "import math\n",
    "\n",
    "# quick power: calculate (base^exponent)%modulus\n",
    "def powerMod(base, exponent, modulus):\n",
    "  answer = 1\n",
    "  while exponent > 0:\n",
    "    if exponent % 2 == 1: answer = (answer * base) % modulus\n",
    "    base = (base**2) % modulus\n",
    "    exponent //= 2\n",
    "  return answer\n",
    "\n",
    "# exgcd: return (x, y, gcd(a, b)) where ax + by = gcd(a,b)\n",
    "def exgcd(a, b):\n",
    "  if b == 0: return 1, 0, a\n",
    "  else:\n",
    "    x0, y0, g = exgcd(b, a%b)\n",
    "    return y0, x0 - (a//b)*y0, g\n",
    "\n",
    "# inv: return x, where ax = 1 (mod m)\n",
    "def inv(a, m) -> int:\n",
    "    x, y, g = exgcd(a, m)\n",
    "    return (x%m+m)%m"
   ]
  },
  {
   "cell_type": "markdown",
   "metadata": {},
   "source": [
    "* 首先我们需要找出一些较大的质数。\n",
    "  * 在这里为了简便我们直接使用埃拉托色尼筛法。在实际应用中为了选出随机大素数我们可以使用 Miller Rabin 素性检测的方法。\n",
    "* 找出素数后我们输出找到的最大的几个素数以便检查正确性。"
   ]
  },
  {
   "cell_type": "code",
   "execution_count": null,
   "metadata": {},
   "outputs": [],
   "source": [
    "def sieve(upperbound = 0x4000):\n",
    "  primes = []\n",
    "  flags = [True] * upperbound\n",
    "  for each in range(2, upperbound):\n",
    "    if not flags[each]: continue\n",
    "    for multiplier in range(2, upperbound // each):\n",
    "      flags[multiplier * each] = False\n",
    "    primes.append(each)\n",
    "  return primes\n",
    "\n",
    "primes = sieve(0x4000)\n",
    "print(primes[-10:])"
   ]
  },
  {
   "cell_type": "markdown",
   "metadata": {},
   "source": [
    "* 密钥生成\n",
    "  1. 选取两个随机大素数 $p, q$，计算 $n = pq, \\lambda = \\text{lcm}(p-1, q-1)$；\n",
    "  2. 选取 $g < n^2$ 且与 $n^2$ 互质（即 $g$ 不为 $p$ 或 $q$ 的倍数），使模 $n$ 意义下的逆元 $\\mu = (L(g^\\lambda \\text{ mod } n^2))^{-1}$ 存在，即\n",
    "      $$\\mu \\cdot L(g^\\lambda \\text{ mod } n^2) \\equiv 1 \\pmod {n}$$\n",
    "      其中 $L(x) = (x-1)/n$；\n",
    "  3. 公钥为 $(n, g)$，私钥为 $(\\lambda, \\mu)$。从实现的角度而言，因为 $g$ 是公钥，所以不必选取 $g$ 为随机数，例如可以直接选取 $g = n+1$。"
   ]
  },
  {
   "cell_type": "code",
   "execution_count": null,
   "metadata": {},
   "outputs": [],
   "source": [
    "# produce (n, g, lambda, mu), where (n, g) is the public key, (lambda, mu) is the private key\n",
    "def generateKeys():\n",
    "  primeCount = len(primes)\n",
    "  p = primes[random.randint(primeCount // 2, primeCount)]\n",
    "  while True:\n",
    "    q = primes[random.randint(primeCount // 2, primeCount)]\n",
    "    if p != q: break\n",
    "  n = p*q\n",
    "  Lambda = (p-1)*(q-1) // math.gcd(p-1, q-1)\n",
    "  g = n + 1\n",
    "  mu = inv((powerMod(g, Lambda, n*n)-1)//n, n)\n",
    "  return n, g, Lambda, mu"
   ]
  },
  {
   "cell_type": "markdown",
   "metadata": {},
   "source": [
    "* 加密算法\n",
    "  * 对于明文 $m < n$ 随机选取 $0 < r < n$ 使得 $r$ 与 $n$ 互质，则密文为 $c = g^m r^n (\\text{mod } n^2)$\n",
    "  * 实际上，当 $n$ 足够大时，可以直接随机选取 $0 < r < n$，因为二者不互质的概率极小。"
   ]
  },
  {
   "cell_type": "code",
   "execution_count": null,
   "metadata": {},
   "outputs": [],
   "source": [
    "def encrypt(m, n, g):\n",
    "  while True:\n",
    "    r = random.randint(1, n-1)\n",
    "    if math.gcd(r, n) == 1: break\n",
    "  c = powerMod(g, m, n*n) * powerMod(r, n, n*n) % (n*n)\n",
    "  return c"
   ]
  },
  {
   "cell_type": "markdown",
   "metadata": {},
   "source": [
    "* 解密算法\n",
    "  * 对于密文 $c$，明文为 $m = \\mu \\cdot L(c^\\lambda \\text{ mod } n^2) \\text{ mod } n$"
   ]
  },
  {
   "cell_type": "code",
   "execution_count": null,
   "metadata": {},
   "outputs": [],
   "source": [
    "def decrypt(c, Lambda, mu, n):\n",
    "  k = powerMod(c, Lambda, n*n)\n",
    "  assert((k-1)%n == 0) # when (k-1)%n != 0, c is not a valid ciphertext.\n",
    "  return (k-1)//n * mu % n  "
   ]
  },
  {
   "cell_type": "markdown",
   "metadata": {},
   "source": [
    "* 同态加法运算\n",
    "  * 对于密文 $c_1, c_1$, 计算 $c_3 = c_1 \\cdot c_2 \\text{ mod } n^2$，则 $c_3$ 是合法的密文且\n",
    "    $$D(c_3) = D(c_1) + D(c_2)$$\n",
    "    其中 $D(c)$ 为解密算法。\n",
    "    "
   ]
  },
  {
   "cell_type": "code",
   "execution_count": null,
   "metadata": {},
   "outputs": [],
   "source": [
    "def evalAdd(c1, c2, n):\n",
    "  return c1 * c2 % (n*n)"
   ]
  },
  {
   "cell_type": "markdown",
   "metadata": {},
   "source": [
    "* 我们可以测试以上实现是否确实满足同态性质。"
   ]
  },
  {
   "cell_type": "code",
   "execution_count": null,
   "metadata": {},
   "outputs": [],
   "source": [
    "# generate keys\n",
    "n, g, Lambda, mu = generateKeys()\n",
    "print(f\"Public key:       n = {n:10d},  g = {g:10d}\")\n",
    "print(f\"Private key: lambda = {Lambda:10d}, mu = {mu:10d}\")\n",
    "print(\"\")\n",
    "# plaintext\n",
    "m1 = random.randint(0, n-1)\n",
    "m2 = random.randint(0, n-1)\n",
    "# ciphertext\n",
    "c1 = encrypt(m1, n, g)\n",
    "c2 = encrypt(m2, n, g)\n",
    "print(f\"c1 = Encrypt({m1}) = {c1:18d} = 0x{c1:015x}\")\n",
    "print(f\"c2 = Encrypt({m2}) = {c2:18d} = 0x{c2:015x}\")\n",
    "print(\"\")\n",
    "# evaluate addition\n",
    "c3 = evalAdd(c1, c2, n)\n",
    "print(f\"c3 = c1 * c2 = {c3:18d} = 0x{c3:015x}\")\n",
    "print(\"\")\n",
    "# decrypt\n",
    "d = decrypt(c3, Lambda, mu, n)\n",
    "print(f\"Decrypt(c3) = {d} = {m1} + {m2} (mod {n})\")\n"
   ]
  },
  {
   "cell_type": "markdown",
   "metadata": {},
   "source": [
    "* Paillier 密码系统中加密和解密的正确性\n",
    "\n",
    "    由 $\\lambda = \\text{lcm}(p-1, q-1)$，可记 $\\lambda = k_1(p-1) = k_2(q-1)$。\n",
    "\n",
    "    因 $g$ 不是 $p$ 的倍数，由费马小定理可知 $g^{\\lambda} = g^{k_1 (p-1)} \\equiv 1 \\pmod{p}$；同理 $g^{\\lambda} \\equiv 1 \\pmod{q}$；从而 $g^\\lambda \\equiv 1 \\pmod{n}$，即 $g^\\lambda \\text{ mod } n^2 \\equiv 1 \\pmod{n}$。记 $g^\\lambda \\text{ mod } n^2 = kn + 1$，即 $L(g^\\lambda \\text{ mod } n^2) = k$。\n",
    "\n",
    "    由二项式定理，$(1 + kn)^m \\equiv knm + 1 \\pmod{n^2}$，从而 $g^{m\\lambda} \\equiv (kn+1)^m \\equiv knm + 1 \\pmod{n^2}$。\n",
    "\n",
    "    同样，因为 $\\gcd(r, n) = 1$，则 $r^\\lambda \\equiv 1$，记为 $r^\\lambda = k_r n + 1$，则 $r^{\\lambda n} \\equiv k_r n^2 + 1 \\equiv 1 \\pmod {n^2}$。\n",
    "\n",
    "    于是 $L(g^{m\\lambda}r^{n\\lambda} \\text{ mod } n^2) = L(knm + 1) = km$，从而 $\\mu L(g^{m\\lambda}r^{n\\lambda} \\text{ mod } n^2) \\equiv km / k \\equiv m \\pmod{n}$。\n",
    "\n",
    "* 同态加法的正确性\n",
    "  \n",
    "    设两密文 $c_1 = g^{m_1}r_1^n \\text{ mod } n^2, c_2 = g^{m_2}r_2^n \\text{ mod } n^2$，则 $c_3 \\equiv c_1c_2  \\equiv g^{m_1+m_2} r_1^n r_2^n \\pmod{n^2}$。\n",
    "\n",
    "    由以上分析可知 $g^{(m_1+m_2)\\lambda} \\equiv kn(m_1+m_2) + 1$，而 $r_1^{\\lambda n} \\equiv r_2^{\\lambda n} \\equiv 1 \\pmod{n^2}$，易得 $\\mu L(c_3^\\lambda  \\text{ mod } n^2) \\equiv k(m_1+m_2) / k \\equiv m_1 + m_2 \\pmod{n}$。即加法同态成立。\n",
    "  "
   ]
  }
 ],
 "metadata": {
  "interpreter": {
   "hash": "e588a23f49329b9290dda077d79a9005879a30fe97c1fa2c6a93e79fd5926943"
  },
  "kernelspec": {
   "display_name": "Python 3.8.5 64-bit",
   "name": "python3"
  },
  "language_info": {
   "codemirror_mode": {
    "name": "ipython",
    "version": 3
   },
   "file_extension": ".py",
   "mimetype": "text/x-python",
   "name": "python",
   "nbconvert_exporter": "python",
   "pygments_lexer": "ipython3",
   "version": "3.8.5"
  },
  "orig_nbformat": 4
 },
 "nbformat": 4,
 "nbformat_minor": 2
}
